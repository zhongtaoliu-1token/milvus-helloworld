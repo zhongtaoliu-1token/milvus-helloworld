{
 "cells": [
  {
   "cell_type": "markdown",
   "id": "1e1a7115",
   "metadata": {},
   "source": [
    "# Start local milvus\n",
    "```sh\n",
    "cd ops\n",
    "docker compose up -d\n",
    "```\n",
    "[WebUI](http://localhost:9091/webui)\n",
    "\n",
    "# download huggingface model and dataset\n",
    "1. https://hf-mirror.com/Qwen/Qwen3-Embedding-0.6B\n",
    "1. https://hf-mirror.com/datasets/bzb2023/Zhihu-KOL-More-Than-100-Upvotes\n",
    "\n",
    "\n",
    "```sh\n",
    "cd notebooks/milvus\n",
    "export HF_ENDPOINT=https://hf-mirror.com\n",
    "./hfd.sh Qwen/Qwen3-Embedding-0.6B\n",
    "./hfd.sh bzb2023/Zhihu-KOL-More-Than-100-Upvotes --dataset\n",
    "```"
   ]
  },
  {
   "cell_type": "code",
   "execution_count": 1,
   "id": "3600311d-8802-4414-8328-a3bcf2f50ae8",
   "metadata": {},
   "outputs": [],
   "source": [
    "from pymilvus import connections, utility\n",
    "\n",
    "collection_name = \"example\"\n",
    "connections.connect(\n",
    "    host=\"127.0.0.1\",\n",
    "    port=\"19530\"\n",
    ")\n",
    "\n",
    "utility.drop_collection(collection_name=collection_name)"
   ]
  },
  {
   "cell_type": "code",
   "execution_count": 2,
   "id": "e26b46e2",
   "metadata": {},
   "outputs": [],
   "source": [
    "from pymilvus import FieldSchema, CollectionSchema, DataType\n",
    "\n",
    "DIMENSION = 1024\n",
    "\n",
    "fields = [\n",
    "    FieldSchema(name=\"id\", dtype=DataType.INT64, is_primary=True, auto_id=True),\n",
    "    FieldSchema(name=\"question\", dtype=DataType.VARCHAR, max_length=2048),\n",
    "    FieldSchema(name=\"question_embedding\", dtype=DataType.FLOAT_VECTOR, dim=DIMENSION),\n",
    "    FieldSchema(name=\"answer\", dtype=DataType.VARCHAR, max_length=65535),\n",
    "    FieldSchema(name=\"answer_embedding\", dtype=DataType.FLOAT_VECTOR, dim=DIMENSION),\n",
    "    FieldSchema(name=\"upvotes\", dtype=DataType.INT64),\n",
    "]\n",
    "\n",
    "schema = CollectionSchema(fields=fields)"
   ]
  },
  {
   "cell_type": "code",
   "execution_count": 3,
   "id": "06b4ce32",
   "metadata": {},
   "outputs": [],
   "source": [
    "from pymilvus import Collection\n",
    "\n",
    "collection = Collection(name=collection_name, schema=schema)\n",
    "\n",
    "index_params = {\n",
    "    \"index_type\": \"IVF_FLAT\",\n",
    "    \"metric_type\":\"L2\",\n",
    "    \"params\": {\"nlist\": 4}, \n",
    "}\n",
    "\n",
    "collection.create_index(field_name=\"question_embedding\", index_params=index_params)\n",
    "collection.create_index(field_name=\"answer_embedding\", index_params=index_params)\n",
    "\n",
    "collection.load()"
   ]
  },
  {
   "cell_type": "code",
   "execution_count": 4,
   "id": "bf232f3d",
   "metadata": {},
   "outputs": [],
   "source": [
    "from sentence_transformers  import SentenceTransformer\n",
    "from datasets import load_from_disk\n",
    "\n",
    "import os\n",
    "\n",
    "pwd = %pwd\n",
    "\n",
    "transformerPath = os.path.join(pwd, \"Qwen3-Embedding-0.6B\")\n",
    "datasetPath = os.path.join(pwd, \"Zhihu-KOL-More-Than-100-Upvotes\")\n",
    "\n",
    "transformer = SentenceTransformer(transformerPath)\n",
    "dataset = load_from_disk(datasetPath)\n"
   ]
  },
  {
   "cell_type": "code",
   "execution_count": 5,
   "id": "d47f98ac",
   "metadata": {},
   "outputs": [
    {
     "data": {
      "text/plain": [
       "417775"
      ]
     },
     "metadata": {},
     "output_type": "display_data"
    },
    {
     "data": {
      "text/html": [
       "<div>\n",
       "<style scoped>\n",
       "    .dataframe tbody tr th:only-of-type {\n",
       "        vertical-align: middle;\n",
       "    }\n",
       "\n",
       "    .dataframe tbody tr th {\n",
       "        vertical-align: top;\n",
       "    }\n",
       "\n",
       "    .dataframe thead th {\n",
       "        text-align: right;\n",
       "    }\n",
       "</style>\n",
       "<table border=\"1\" class=\"dataframe\">\n",
       "  <thead>\n",
       "    <tr style=\"text-align: right;\">\n",
       "      <th></th>\n",
       "      <th>INSTRUCTION</th>\n",
       "      <th>RESPONSE</th>\n",
       "      <th>SOURCE</th>\n",
       "      <th>METADATA</th>\n",
       "      <th>upvotes</th>\n",
       "    </tr>\n",
       "  </thead>\n",
       "  <tbody>\n",
       "    <tr>\n",
       "      <th>6</th>\n",
       "      <td>你对青年警察有什么建议呢？</td>\n",
       "      <td>看有这么多慌张的弟弟妹妹。再多数几句。 1.遴选。我所在单位之前遴选到市局是不需要工作年限的...</td>\n",
       "      <td>Zhihu</td>\n",
       "      <td>{\"question_id\": 405252776.0, \"answer_id\": 1942...</td>\n",
       "      <td>2292</td>\n",
       "    </tr>\n",
       "    <tr>\n",
       "      <th>9</th>\n",
       "      <td>如果你魂穿在了戚夫人身上，时间点是刘邦死后，该如何自保，不被做成人彘？</td>\n",
       "      <td>很简单。其实戚夫人在刘邦死后要保命本来就是简单难度。 首先吕雉本来是一个贤德的大妇，对于刘邦...</td>\n",
       "      <td>Zhihu</td>\n",
       "      <td>{\"question_id\": 484727306.0, \"answer_id\": 2142...</td>\n",
       "      <td>3896</td>\n",
       "    </tr>\n",
       "    <tr>\n",
       "      <th>11</th>\n",
       "      <td>为什么老一辈会认为健身出来是畸形身材？</td>\n",
       "      <td>正常的健身： 打拳的 打球的 游泳的 跑步的 踢球的  畸形的健身：  老一辈觉得怎么样我不...</td>\n",
       "      <td>Zhihu</td>\n",
       "      <td>{\"question_id\": 410923579.0, \"answer_id\": 2804...</td>\n",
       "      <td>3971</td>\n",
       "    </tr>\n",
       "    <tr>\n",
       "      <th>15</th>\n",
       "      <td>为什么 苹果Mac 电脑不粘贴 Intel 标志?</td>\n",
       "      <td>谢邀。尽管现在好几家强势笔记本厂商没有贴Intel标志，但苹果Mac确实是第一个这么做的。这...</td>\n",
       "      <td>Zhihu</td>\n",
       "      <td>{\"question_id\": 338039138.0, \"answer_id\": 8019...</td>\n",
       "      <td>1187</td>\n",
       "    </tr>\n",
       "    <tr>\n",
       "      <th>17</th>\n",
       "      <td>为什么有些胖子明明瘦下来会很好看，却仍然在肥胖的道路上越走越远？</td>\n",
       "      <td>曾经，我就是一个大胖子 评论里120多斤的算啥胖啊，在我看也就微胖略丰满吧 爆个照（最胖时期...</td>\n",
       "      <td>Zhihu</td>\n",
       "      <td>{\"question_id\": 349224161.0, \"answer_id\": 8969...</td>\n",
       "      <td>4725</td>\n",
       "    </tr>\n",
       "    <tr>\n",
       "      <th>18</th>\n",
       "      <td>地球资源使用已经超过年预估值了，为什么人类依旧我行我素?</td>\n",
       "      <td>因为资源不足本来就是一个“伪”属性大于80%的命题。 几百年前的古人在用什么资源，现在你在用...</td>\n",
       "      <td>Zhihu</td>\n",
       "      <td>{\"question_id\": 339126201.0, \"answer_id\": 7805...</td>\n",
       "      <td>1304</td>\n",
       "    </tr>\n",
       "    <tr>\n",
       "      <th>25</th>\n",
       "      <td>《演员请就位》中李少红导演是不是看不上郭敬明？</td>\n",
       "      <td>​关于郭敬明，有几个「名场面」。 第一次是2005年，刚成名的他伴随抄袭的争议出现在央视...</td>\n",
       "      <td>Zhihu</td>\n",
       "      <td>{\"question_id\": 351365853.0, \"answer_id\": 8767...</td>\n",
       "      <td>8305</td>\n",
       "    </tr>\n",
       "    <tr>\n",
       "      <th>27</th>\n",
       "      <td>打野球的时候，哪种对手最让你绝望？</td>\n",
       "      <td>以我在各个野球场混迹十余年的经验来讲，总结了一下几种人让人绝望至极，想抱着篮球回家。 1.运...</td>\n",
       "      <td>Zhihu</td>\n",
       "      <td>{\"question_id\": 352205881.0, \"answer_id\": 8720...</td>\n",
       "      <td>1867</td>\n",
       "    </tr>\n",
       "    <tr>\n",
       "      <th>28</th>\n",
       "      <td>怎么样才能在二十天内减肥16斤？</td>\n",
       "      <td>20 天内瘦16斤，不难做到！！！ 自报家门先，上班族，体重最高时150斤，最低102斤，目...</td>\n",
       "      <td>Zhihu</td>\n",
       "      <td>{\"question_id\": 352940118.0, \"answer_id\": 9685...</td>\n",
       "      <td>8115</td>\n",
       "    </tr>\n",
       "    <tr>\n",
       "      <th>29</th>\n",
       "      <td>为什么人们宁可相信传入中国不到两百年的现代医学，却不肯相信已经在中国传承几千年的中医？</td>\n",
       "      <td>这个也是传承了几千年的博大精深</td>\n",
       "      <td>Zhihu</td>\n",
       "      <td>{\"question_id\": 353112251.0, \"answer_id\": 2035...</td>\n",
       "      <td>1166</td>\n",
       "    </tr>\n",
       "  </tbody>\n",
       "</table>\n",
       "</div>"
      ],
      "text/plain": [
       "                                    INSTRUCTION  \\\n",
       "6                                 你对青年警察有什么建议呢？   \n",
       "9           如果你魂穿在了戚夫人身上，时间点是刘邦死后，该如何自保，不被做成人彘？   \n",
       "11                          为什么老一辈会认为健身出来是畸形身材？   \n",
       "15                    为什么 苹果Mac 电脑不粘贴 Intel 标志?   \n",
       "17             为什么有些胖子明明瘦下来会很好看，却仍然在肥胖的道路上越走越远？   \n",
       "18                 地球资源使用已经超过年预估值了，为什么人类依旧我行我素?   \n",
       "25                      《演员请就位》中李少红导演是不是看不上郭敬明？   \n",
       "27                            打野球的时候，哪种对手最让你绝望？   \n",
       "28                             怎么样才能在二十天内减肥16斤？   \n",
       "29  为什么人们宁可相信传入中国不到两百年的现代医学，却不肯相信已经在中国传承几千年的中医？   \n",
       "\n",
       "                                             RESPONSE SOURCE  \\\n",
       "6   看有这么多慌张的弟弟妹妹。再多数几句。 1.遴选。我所在单位之前遴选到市局是不需要工作年限的...  Zhihu   \n",
       "9   很简单。其实戚夫人在刘邦死后要保命本来就是简单难度。 首先吕雉本来是一个贤德的大妇，对于刘邦...  Zhihu   \n",
       "11  正常的健身： 打拳的 打球的 游泳的 跑步的 踢球的  畸形的健身：  老一辈觉得怎么样我不...  Zhihu   \n",
       "15  谢邀。尽管现在好几家强势笔记本厂商没有贴Intel标志，但苹果Mac确实是第一个这么做的。这...  Zhihu   \n",
       "17  曾经，我就是一个大胖子 评论里120多斤的算啥胖啊，在我看也就微胖略丰满吧 爆个照（最胖时期...  Zhihu   \n",
       "18  因为资源不足本来就是一个“伪”属性大于80%的命题。 几百年前的古人在用什么资源，现在你在用...  Zhihu   \n",
       "25    ​关于郭敬明，有几个「名场面」。 第一次是2005年，刚成名的他伴随抄袭的争议出现在央视...  Zhihu   \n",
       "27  以我在各个野球场混迹十余年的经验来讲，总结了一下几种人让人绝望至极，想抱着篮球回家。 1.运...  Zhihu   \n",
       "28  20 天内瘦16斤，不难做到！！！ 自报家门先，上班族，体重最高时150斤，最低102斤，目...  Zhihu   \n",
       "29                                   这个也是传承了几千年的博大精深   Zhihu   \n",
       "\n",
       "                                             METADATA  upvotes  \n",
       "6   {\"question_id\": 405252776.0, \"answer_id\": 1942...     2292  \n",
       "9   {\"question_id\": 484727306.0, \"answer_id\": 2142...     3896  \n",
       "11  {\"question_id\": 410923579.0, \"answer_id\": 2804...     3971  \n",
       "15  {\"question_id\": 338039138.0, \"answer_id\": 8019...     1187  \n",
       "17  {\"question_id\": 349224161.0, \"answer_id\": 8969...     4725  \n",
       "18  {\"question_id\": 339126201.0, \"answer_id\": 7805...     1304  \n",
       "25  {\"question_id\": 351365853.0, \"answer_id\": 8767...     8305  \n",
       "27  {\"question_id\": 352205881.0, \"answer_id\": 8720...     1867  \n",
       "28  {\"question_id\": 352940118.0, \"answer_id\": 9685...     8115  \n",
       "29  {\"question_id\": 353112251.0, \"answer_id\": 2035...     1166  "
      ]
     },
     "metadata": {},
     "output_type": "display_data"
    }
   ],
   "source": [
    "from IPython.display import display\n",
    "\n",
    "df = dataset.to_pandas().query(\"`RESPONSE`.str.len() < 4096 & upvotes > 1000\")\n",
    "display(df.size)\n",
    "display(df[:10])"
   ]
  },
  {
   "cell_type": "code",
   "execution_count": null,
   "id": "e10df397",
   "metadata": {},
   "outputs": [
    {
     "data": {
      "text/plain": [
       "'288/417775'"
      ]
     },
     "metadata": {},
     "output_type": "display_data"
    },
    {
     "data": {
      "text/plain": [
       "'607/417775'"
      ]
     },
     "metadata": {},
     "output_type": "display_data"
    },
    {
     "data": {
      "text/plain": [
       "'896/417775'"
      ]
     },
     "metadata": {},
     "output_type": "display_data"
    },
    {
     "data": {
      "text/plain": [
       "'1237/417775'"
      ]
     },
     "metadata": {},
     "output_type": "display_data"
    },
    {
     "data": {
      "text/plain": [
       "'1560/417775'"
      ]
     },
     "metadata": {},
     "output_type": "display_data"
    },
    {
     "data": {
      "text/plain": [
       "'1901/417775'"
      ]
     },
     "metadata": {},
     "output_type": "display_data"
    },
    {
     "data": {
      "text/plain": [
       "'2212/417775'"
      ]
     },
     "metadata": {},
     "output_type": "display_data"
    },
    {
     "data": {
      "text/plain": [
       "'2649/417775'"
      ]
     },
     "metadata": {},
     "output_type": "display_data"
    },
    {
     "data": {
      "text/plain": [
       "'3077/417775'"
      ]
     },
     "metadata": {},
     "output_type": "display_data"
    },
    {
     "data": {
      "text/plain": [
       "'3364/417775'"
      ]
     },
     "metadata": {},
     "output_type": "display_data"
    },
    {
     "data": {
      "text/plain": [
       "'3654/417775'"
      ]
     },
     "metadata": {},
     "output_type": "display_data"
    },
    {
     "data": {
      "text/plain": [
       "'3975/417775'"
      ]
     },
     "metadata": {},
     "output_type": "display_data"
    }
   ],
   "source": [
    "milvus_input = []\n",
    "for index, row in df.iterrows():\n",
    "    entry = {}\n",
    "    question = row[\"INSTRUCTION\"]\n",
    "    entry[\"question_embedding\"] = transformer.encode(question)\n",
    "    entry[\"question\"] = question\n",
    "\n",
    "    answer = row[\"RESPONSE\"]\n",
    "    entry[\"answer_embedding\"] = transformer.encode(answer)\n",
    "    entry[\"answer\"] = answer\n",
    "\n",
    "    entry[\"upvotes\"] = row[\"upvotes\"]\n",
    "    \n",
    "    milvus_input.append(entry)\n",
    "    if len(milvus_input) == 100:\n",
    "        collection.insert(milvus_input)\n",
    "        collection.flush()\n",
    "        milvus_input = []\n",
    "        display(f\"{index+1}/{df.size}\")\n",
    "if len(milvus_input) > 0:\n",
    "    collection.insert(milvus_input)\n",
    "    collection.flush()"
   ]
  }
 ],
 "metadata": {
  "kernelspec": {
   "display_name": ".venv",
   "language": "python",
   "name": "python3"
  },
  "language_info": {
   "codemirror_mode": {
    "name": "ipython",
    "version": 3
   },
   "file_extension": ".py",
   "mimetype": "text/x-python",
   "name": "python",
   "nbconvert_exporter": "python",
   "pygments_lexer": "ipython3",
   "version": "3.12.11"
  }
 },
 "nbformat": 4,
 "nbformat_minor": 5
}
